{
 "cells": [
  {
   "cell_type": "markdown",
   "metadata": {},
   "source": [
    "Import Packages"
   ]
  },
  {
   "cell_type": "code",
   "execution_count": 19,
   "metadata": {},
   "outputs": [],
   "source": [
    "import pandas as pd\n",
    "import matplotlib.pyplot as plt\n",
    "import seaborn as sns"
   ]
  },
  {
   "cell_type": "markdown",
   "metadata": {},
   "source": [
    "Load the Data"
   ]
  },
  {
   "cell_type": "code",
   "execution_count": 20,
   "metadata": {},
   "outputs": [],
   "source": [
    "parent_dir = '../../data/fjcreate/'\n",
    "\n",
    "df = pd.read_csv(f'{parent_dir}/aggregate_energy_results.csv')\n"
   ]
  },
  {
   "cell_type": "markdown",
   "metadata": {},
   "source": [
    "Preview the Data"
   ]
  },
  {
   "cell_type": "code",
   "execution_count": 21,
   "metadata": {},
   "outputs": [
    {
     "name": "stdout",
     "output_type": "stream",
     "text": [
      "Data:\n",
      "(9, 4)\n"
     ]
    },
    {
     "data": {
      "text/html": [
       "<div>\n",
       "<style scoped>\n",
       "    .dataframe tbody tr th:only-of-type {\n",
       "        vertical-align: middle;\n",
       "    }\n",
       "\n",
       "    .dataframe tbody tr th {\n",
       "        vertical-align: top;\n",
       "    }\n",
       "\n",
       "    .dataframe thead th {\n",
       "        text-align: right;\n",
       "    }\n",
       "</style>\n",
       "<table border=\"1\" class=\"dataframe\">\n",
       "  <thead>\n",
       "    <tr style=\"text-align: right;\">\n",
       "      <th></th>\n",
       "      <th>Iterations</th>\n",
       "      <th>N</th>\n",
       "      <th>Erlang Energy Consumption(J)</th>\n",
       "      <th>Scala Energy Consumption(J)</th>\n",
       "    </tr>\n",
       "  </thead>\n",
       "  <tbody>\n",
       "    <tr>\n",
       "      <th>0</th>\n",
       "      <td>10</td>\n",
       "      <td>50000</td>\n",
       "      <td>32.303589</td>\n",
       "      <td>103.135206</td>\n",
       "    </tr>\n",
       "    <tr>\n",
       "      <th>1</th>\n",
       "      <td>10</td>\n",
       "      <td>100000</td>\n",
       "      <td>75.364969</td>\n",
       "      <td>157.685181</td>\n",
       "    </tr>\n",
       "    <tr>\n",
       "      <th>2</th>\n",
       "      <td>10</td>\n",
       "      <td>500000</td>\n",
       "      <td>396.591025</td>\n",
       "      <td>446.552042</td>\n",
       "    </tr>\n",
       "    <tr>\n",
       "      <th>3</th>\n",
       "      <td>10</td>\n",
       "      <td>1000000</td>\n",
       "      <td>808.137474</td>\n",
       "      <td>1225.891880</td>\n",
       "    </tr>\n",
       "    <tr>\n",
       "      <th>4</th>\n",
       "      <td>10</td>\n",
       "      <td>5000000</td>\n",
       "      <td>6426.634181</td>\n",
       "      <td>10305.052959</td>\n",
       "    </tr>\n",
       "    <tr>\n",
       "      <th>5</th>\n",
       "      <td>10</td>\n",
       "      <td>10000000</td>\n",
       "      <td>15059.032038</td>\n",
       "      <td>26641.183670</td>\n",
       "    </tr>\n",
       "    <tr>\n",
       "      <th>6</th>\n",
       "      <td>10</td>\n",
       "      <td>20000000</td>\n",
       "      <td>36044.321516</td>\n",
       "      <td>73649.201150</td>\n",
       "    </tr>\n",
       "    <tr>\n",
       "      <th>7</th>\n",
       "      <td>10</td>\n",
       "      <td>30000000</td>\n",
       "      <td>59705.349220</td>\n",
       "      <td>240924.969756</td>\n",
       "    </tr>\n",
       "    <tr>\n",
       "      <th>8</th>\n",
       "      <td>10</td>\n",
       "      <td>40000000</td>\n",
       "      <td>86682.135514</td>\n",
       "      <td>392334.352894</td>\n",
       "    </tr>\n",
       "  </tbody>\n",
       "</table>\n",
       "</div>"
      ],
      "text/plain": [
       "   Iterations         N  Erlang Energy Consumption(J)  \\\n",
       "0          10     50000                     32.303589   \n",
       "1          10    100000                     75.364969   \n",
       "2          10    500000                    396.591025   \n",
       "3          10   1000000                    808.137474   \n",
       "4          10   5000000                   6426.634181   \n",
       "5          10  10000000                  15059.032038   \n",
       "6          10  20000000                  36044.321516   \n",
       "7          10  30000000                  59705.349220   \n",
       "8          10  40000000                  86682.135514   \n",
       "\n",
       "   Scala Energy Consumption(J)  \n",
       "0                   103.135206  \n",
       "1                   157.685181  \n",
       "2                   446.552042  \n",
       "3                  1225.891880  \n",
       "4                 10305.052959  \n",
       "5                 26641.183670  \n",
       "6                 73649.201150  \n",
       "7                240924.969756  \n",
       "8                392334.352894  "
      ]
     },
     "execution_count": 21,
     "metadata": {},
     "output_type": "execute_result"
    }
   ],
   "source": [
    "print(\"Data:\")\n",
    "print(df.shape)\n",
    "df.head(11)"
   ]
  },
  {
   "cell_type": "markdown",
   "metadata": {},
   "source": [
    "Add Custom Column for N"
   ]
  },
  {
   "cell_type": "code",
   "execution_count": 22,
   "metadata": {},
   "outputs": [],
   "source": [
    "def format_number_str(nmsg):\n",
    "    \"\"\"Formats large numbers into shortened notation (e.g., 1B, 100M, 10M).\"\"\"\n",
    "    if nmsg >= 1_000_000_000:\n",
    "        return f\"{nmsg // 1_000_000_000}B\"\n",
    "    elif nmsg >= 1_000_000:\n",
    "        return f\"{nmsg // 1_000_000}M\"\n",
    "    elif nmsg >= 1_000:\n",
    "        return f\"{nmsg // 1_000}K\"\n",
    "    return str(nmsg)"
   ]
  },
  {
   "cell_type": "code",
   "execution_count": 23,
   "metadata": {},
   "outputs": [
    {
     "data": {
      "text/html": [
       "<div>\n",
       "<style scoped>\n",
       "    .dataframe tbody tr th:only-of-type {\n",
       "        vertical-align: middle;\n",
       "    }\n",
       "\n",
       "    .dataframe tbody tr th {\n",
       "        vertical-align: top;\n",
       "    }\n",
       "\n",
       "    .dataframe thead th {\n",
       "        text-align: right;\n",
       "    }\n",
       "</style>\n",
       "<table border=\"1\" class=\"dataframe\">\n",
       "  <thead>\n",
       "    <tr style=\"text-align: right;\">\n",
       "      <th></th>\n",
       "      <th>Iterations</th>\n",
       "      <th>N</th>\n",
       "      <th>Erlang Energy Consumption(J)</th>\n",
       "      <th>Scala Energy Consumption(J)</th>\n",
       "      <th>_N</th>\n",
       "    </tr>\n",
       "  </thead>\n",
       "  <tbody>\n",
       "    <tr>\n",
       "      <th>0</th>\n",
       "      <td>10</td>\n",
       "      <td>50000</td>\n",
       "      <td>32.303589</td>\n",
       "      <td>103.135206</td>\n",
       "      <td>N=50K</td>\n",
       "    </tr>\n",
       "    <tr>\n",
       "      <th>1</th>\n",
       "      <td>10</td>\n",
       "      <td>100000</td>\n",
       "      <td>75.364969</td>\n",
       "      <td>157.685181</td>\n",
       "      <td>N=100K</td>\n",
       "    </tr>\n",
       "    <tr>\n",
       "      <th>2</th>\n",
       "      <td>10</td>\n",
       "      <td>500000</td>\n",
       "      <td>396.591025</td>\n",
       "      <td>446.552042</td>\n",
       "      <td>N=500K</td>\n",
       "    </tr>\n",
       "    <tr>\n",
       "      <th>3</th>\n",
       "      <td>10</td>\n",
       "      <td>1000000</td>\n",
       "      <td>808.137474</td>\n",
       "      <td>1225.891880</td>\n",
       "      <td>N=1M</td>\n",
       "    </tr>\n",
       "    <tr>\n",
       "      <th>4</th>\n",
       "      <td>10</td>\n",
       "      <td>5000000</td>\n",
       "      <td>6426.634181</td>\n",
       "      <td>10305.052959</td>\n",
       "      <td>N=5M</td>\n",
       "    </tr>\n",
       "    <tr>\n",
       "      <th>5</th>\n",
       "      <td>10</td>\n",
       "      <td>10000000</td>\n",
       "      <td>15059.032038</td>\n",
       "      <td>26641.183670</td>\n",
       "      <td>N=10M</td>\n",
       "    </tr>\n",
       "    <tr>\n",
       "      <th>6</th>\n",
       "      <td>10</td>\n",
       "      <td>20000000</td>\n",
       "      <td>36044.321516</td>\n",
       "      <td>73649.201150</td>\n",
       "      <td>N=20M</td>\n",
       "    </tr>\n",
       "    <tr>\n",
       "      <th>7</th>\n",
       "      <td>10</td>\n",
       "      <td>30000000</td>\n",
       "      <td>59705.349220</td>\n",
       "      <td>240924.969756</td>\n",
       "      <td>N=30M</td>\n",
       "    </tr>\n",
       "    <tr>\n",
       "      <th>8</th>\n",
       "      <td>10</td>\n",
       "      <td>40000000</td>\n",
       "      <td>86682.135514</td>\n",
       "      <td>392334.352894</td>\n",
       "      <td>N=40M</td>\n",
       "    </tr>\n",
       "  </tbody>\n",
       "</table>\n",
       "</div>"
      ],
      "text/plain": [
       "   Iterations         N  Erlang Energy Consumption(J)  \\\n",
       "0          10     50000                     32.303589   \n",
       "1          10    100000                     75.364969   \n",
       "2          10    500000                    396.591025   \n",
       "3          10   1000000                    808.137474   \n",
       "4          10   5000000                   6426.634181   \n",
       "5          10  10000000                  15059.032038   \n",
       "6          10  20000000                  36044.321516   \n",
       "7          10  30000000                  59705.349220   \n",
       "8          10  40000000                  86682.135514   \n",
       "\n",
       "   Scala Energy Consumption(J)      _N  \n",
       "0                   103.135206   N=50K  \n",
       "1                   157.685181  N=100K  \n",
       "2                   446.552042  N=500K  \n",
       "3                  1225.891880    N=1M  \n",
       "4                 10305.052959    N=5M  \n",
       "5                 26641.183670   N=10M  \n",
       "6                 73649.201150   N=20M  \n",
       "7                240924.969756   N=30M  \n",
       "8                392334.352894   N=40M  "
      ]
     },
     "execution_count": 23,
     "metadata": {},
     "output_type": "execute_result"
    }
   ],
   "source": [
    "df['_N'] = \"N=\" + df['N'].apply(format_number_str)  \n",
    "df.head(15)"
   ]
  },
  {
   "cell_type": "markdown",
   "metadata": {},
   "source": [
    "Visualize the Data"
   ]
  },
  {
   "cell_type": "code",
   "execution_count": 24,
   "metadata": {},
   "outputs": [
    {
     "data": {
      "image/png": "[encoded data removed]",
      "text/plain": [
       "<Figure size 1000x600 with 1 Axes>"
      ]
     },
     "metadata": {},
     "output_type": "display_data"
    }
   ],
   "source": [
    "# Set the plot style\n",
    "sns.set_theme(style=\"whitegrid\", palette=\"muted\")\n",
    "\n",
    "# Plotting the energy consumption\n",
    "plt.figure(figsize=(10, 6))\n",
    "\n",
    "# Plot Erlang and Scala energy consumption\n",
    "sns.lineplot(x=\"_N\", y=\"Erlang Energy Consumption(J)\", data=df, marker='o', label=\"Erlang Energy Consumption (J)\", color=\"blue\")\n",
    "sns.lineplot(x=\"_N\", y=\"Scala Energy Consumption(J)\", data=df, marker='o', label=\"Scala Energy Consumption (J)\", color=\"green\")\n",
    "\n",
    "# Adding labels and title\n",
    "plt.xlabel(\"Number of Messages(N)\")\n",
    "plt.ylabel(\"Energy Consumption (Joules)\")\n",
    "plt.title(\" Erlang vs Scala Fork-Join Benchmark Energy Consumption\")\n",
    "# plt.xscale(\"log\")\n",
    "plt.yscale(\"log\")\n",
    "\n",
    "# Display legend\n",
    "plt.legend()\n",
    "\n",
    "# Rotate x-axis labels for readability\n",
    "plt.xticks(rotation=45, ha='right')\n",
    "\n",
    "# Show the plot\n",
    "plt.grid(True)\n",
    "plt.show()\n"
   ]
  }
 ],
 "metadata": {
  "kernelspec": {
   "display_name": "Python (venv)",
   "language": "python",
   "name": "venv"
  },
  "language_info": {
   "codemirror_mode": {
    "name": "ipython",
    "version": 3
   },
   "file_extension": ".py",
   "mimetype": "text/x-python",
   "name": "python",
   "nbconvert_exporter": "python",
   "pygments_lexer": "ipython3",
   "version": "3.12.0"
  }
 },
 "nbformat": 4,
 "nbformat_minor": 2
}
