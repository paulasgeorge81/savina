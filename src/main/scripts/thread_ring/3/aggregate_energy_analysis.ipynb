{
 "cells": [
  {
   "cell_type": "markdown",
   "metadata": {},
   "source": [
    "Import Packages"
   ]
  },
  {
   "cell_type": "code",
   "execution_count": 32,
   "metadata": {},
   "outputs": [],
   "source": [
    "import pandas as pd\n",
    "import matplotlib.pyplot as plt\n",
    "import seaborn as sns"
   ]
  },
  {
   "cell_type": "markdown",
   "metadata": {},
   "source": [
    "Load the Data"
   ]
  },
  {
   "cell_type": "code",
   "execution_count": 33,
   "metadata": {},
   "outputs": [],
   "source": [
    "parent_dir = '../../../data/thread_ring/3/'\n",
    "\n",
    "df = pd.read_csv(f'{parent_dir}/aggregate_energy_results.csv')\n"
   ]
  },
  {
   "cell_type": "markdown",
   "metadata": {},
   "source": [
    "Preview the Data"
   ]
  },
  {
   "cell_type": "code",
   "execution_count": 34,
   "metadata": {},
   "outputs": [
    {
     "name": "stdout",
     "output_type": "stream",
     "text": [
      "Data:\n",
      "(7, 5)\n"
     ]
    },
    {
     "data": {
      "text/html": [
       "<div>\n",
       "<style scoped>\n",
       "    .dataframe tbody tr th:only-of-type {\n",
       "        vertical-align: middle;\n",
       "    }\n",
       "\n",
       "    .dataframe tbody tr th {\n",
       "        vertical-align: top;\n",
       "    }\n",
       "\n",
       "    .dataframe thead th {\n",
       "        text-align: right;\n",
       "    }\n",
       "</style>\n",
       "<table border=\"1\" class=\"dataframe\">\n",
       "  <thead>\n",
       "    <tr style=\"text-align: right;\">\n",
       "      <th></th>\n",
       "      <th>Iterations</th>\n",
       "      <th>N</th>\n",
       "      <th>R</th>\n",
       "      <th>Erlang Energy Consumption(J)</th>\n",
       "      <th>Scala Energy Consumption(J)</th>\n",
       "    </tr>\n",
       "  </thead>\n",
       "  <tbody>\n",
       "    <tr>\n",
       "      <th>0</th>\n",
       "      <td>10</td>\n",
       "      <td>10000</td>\n",
       "      <td>1000000000</td>\n",
       "      <td>51625.976353</td>\n",
       "      <td>131262.540515</td>\n",
       "    </tr>\n",
       "    <tr>\n",
       "      <th>1</th>\n",
       "      <td>10</td>\n",
       "      <td>50000</td>\n",
       "      <td>1000000000</td>\n",
       "      <td>67486.114892</td>\n",
       "      <td>151198.245216</td>\n",
       "    </tr>\n",
       "    <tr>\n",
       "      <th>2</th>\n",
       "      <td>10</td>\n",
       "      <td>100000</td>\n",
       "      <td>1000000000</td>\n",
       "      <td>69392.126396</td>\n",
       "      <td>148241.887966</td>\n",
       "    </tr>\n",
       "    <tr>\n",
       "      <th>3</th>\n",
       "      <td>10</td>\n",
       "      <td>500000</td>\n",
       "      <td>1000000000</td>\n",
       "      <td>67534.243074</td>\n",
       "      <td>151986.434269</td>\n",
       "    </tr>\n",
       "    <tr>\n",
       "      <th>4</th>\n",
       "      <td>10</td>\n",
       "      <td>1000000</td>\n",
       "      <td>1000000000</td>\n",
       "      <td>62887.731373</td>\n",
       "      <td>154741.592739</td>\n",
       "    </tr>\n",
       "    <tr>\n",
       "      <th>5</th>\n",
       "      <td>10</td>\n",
       "      <td>5000000</td>\n",
       "      <td>1000000000</td>\n",
       "      <td>666956.155610</td>\n",
       "      <td>232961.020767</td>\n",
       "    </tr>\n",
       "    <tr>\n",
       "      <th>6</th>\n",
       "      <td>10</td>\n",
       "      <td>10000000</td>\n",
       "      <td>1000000000</td>\n",
       "      <td>640072.398768</td>\n",
       "      <td>251226.398349</td>\n",
       "    </tr>\n",
       "  </tbody>\n",
       "</table>\n",
       "</div>"
      ],
      "text/plain": [
       "   Iterations         N           R  Erlang Energy Consumption(J)  \\\n",
       "0          10     10000  1000000000                  51625.976353   \n",
       "1          10     50000  1000000000                  67486.114892   \n",
       "2          10    100000  1000000000                  69392.126396   \n",
       "3          10    500000  1000000000                  67534.243074   \n",
       "4          10   1000000  1000000000                  62887.731373   \n",
       "5          10   5000000  1000000000                 666956.155610   \n",
       "6          10  10000000  1000000000                 640072.398768   \n",
       "\n",
       "   Scala Energy Consumption(J)  \n",
       "0                131262.540515  \n",
       "1                151198.245216  \n",
       "2                148241.887966  \n",
       "3                151986.434269  \n",
       "4                154741.592739  \n",
       "5                232961.020767  \n",
       "6                251226.398349  "
      ]
     },
     "execution_count": 34,
     "metadata": {},
     "output_type": "execute_result"
    }
   ],
   "source": [
    "print(\"Data:\")\n",
    "print(df.shape)\n",
    "df.head(15)"
   ]
  },
  {
   "cell_type": "markdown",
   "metadata": {},
   "source": [
    "Add Custom Column for N and R"
   ]
  },
  {
   "cell_type": "code",
   "execution_count": 35,
   "metadata": {},
   "outputs": [],
   "source": [
    "def format_number_str(nmsg):\n",
    "    \"\"\"Formats large numbers into shortened notation (e.g., 1B, 100M, 10M).\"\"\"\n",
    "    if nmsg >= 1_000_000_000:\n",
    "        return f\"{nmsg // 1_000_000_000}B\"\n",
    "    elif nmsg >= 1_000_000:\n",
    "        return f\"{nmsg // 1_000_000}M\"\n",
    "    elif nmsg >= 1_000:\n",
    "        return f\"{nmsg // 1_000}K\"\n",
    "    return str(nmsg)"
   ]
  },
  {
   "cell_type": "code",
   "execution_count": 36,
   "metadata": {},
   "outputs": [
    {
     "data": {
      "text/html": [
       "<div>\n",
       "<style scoped>\n",
       "    .dataframe tbody tr th:only-of-type {\n",
       "        vertical-align: middle;\n",
       "    }\n",
       "\n",
       "    .dataframe tbody tr th {\n",
       "        vertical-align: top;\n",
       "    }\n",
       "\n",
       "    .dataframe thead th {\n",
       "        text-align: right;\n",
       "    }\n",
       "</style>\n",
       "<table border=\"1\" class=\"dataframe\">\n",
       "  <thead>\n",
       "    <tr style=\"text-align: right;\">\n",
       "      <th></th>\n",
       "      <th>Iterations</th>\n",
       "      <th>N</th>\n",
       "      <th>R</th>\n",
       "      <th>Erlang Energy Consumption(J)</th>\n",
       "      <th>Scala Energy Consumption(J)</th>\n",
       "      <th>N_R</th>\n",
       "    </tr>\n",
       "  </thead>\n",
       "  <tbody>\n",
       "    <tr>\n",
       "      <th>0</th>\n",
       "      <td>10</td>\n",
       "      <td>10000</td>\n",
       "      <td>1000000000</td>\n",
       "      <td>51625.976353</td>\n",
       "      <td>131262.540515</td>\n",
       "      <td>(N=10K, R=1B)</td>\n",
       "    </tr>\n",
       "    <tr>\n",
       "      <th>1</th>\n",
       "      <td>10</td>\n",
       "      <td>50000</td>\n",
       "      <td>1000000000</td>\n",
       "      <td>67486.114892</td>\n",
       "      <td>151198.245216</td>\n",
       "      <td>(N=50K, R=1B)</td>\n",
       "    </tr>\n",
       "    <tr>\n",
       "      <th>2</th>\n",
       "      <td>10</td>\n",
       "      <td>100000</td>\n",
       "      <td>1000000000</td>\n",
       "      <td>69392.126396</td>\n",
       "      <td>148241.887966</td>\n",
       "      <td>(N=100K, R=1B)</td>\n",
       "    </tr>\n",
       "    <tr>\n",
       "      <th>3</th>\n",
       "      <td>10</td>\n",
       "      <td>500000</td>\n",
       "      <td>1000000000</td>\n",
       "      <td>67534.243074</td>\n",
       "      <td>151986.434269</td>\n",
       "      <td>(N=500K, R=1B)</td>\n",
       "    </tr>\n",
       "    <tr>\n",
       "      <th>4</th>\n",
       "      <td>10</td>\n",
       "      <td>1000000</td>\n",
       "      <td>1000000000</td>\n",
       "      <td>62887.731373</td>\n",
       "      <td>154741.592739</td>\n",
       "      <td>(N=1M, R=1B)</td>\n",
       "    </tr>\n",
       "    <tr>\n",
       "      <th>5</th>\n",
       "      <td>10</td>\n",
       "      <td>5000000</td>\n",
       "      <td>1000000000</td>\n",
       "      <td>666956.155610</td>\n",
       "      <td>232961.020767</td>\n",
       "      <td>(N=5M, R=1B)</td>\n",
       "    </tr>\n",
       "    <tr>\n",
       "      <th>6</th>\n",
       "      <td>10</td>\n",
       "      <td>10000000</td>\n",
       "      <td>1000000000</td>\n",
       "      <td>640072.398768</td>\n",
       "      <td>251226.398349</td>\n",
       "      <td>(N=10M, R=1B)</td>\n",
       "    </tr>\n",
       "  </tbody>\n",
       "</table>\n",
       "</div>"
      ],
      "text/plain": [
       "   Iterations         N           R  Erlang Energy Consumption(J)  \\\n",
       "0          10     10000  1000000000                  51625.976353   \n",
       "1          10     50000  1000000000                  67486.114892   \n",
       "2          10    100000  1000000000                  69392.126396   \n",
       "3          10    500000  1000000000                  67534.243074   \n",
       "4          10   1000000  1000000000                  62887.731373   \n",
       "5          10   5000000  1000000000                 666956.155610   \n",
       "6          10  10000000  1000000000                 640072.398768   \n",
       "\n",
       "   Scala Energy Consumption(J)             N_R  \n",
       "0                131262.540515   (N=10K, R=1B)  \n",
       "1                151198.245216   (N=50K, R=1B)  \n",
       "2                148241.887966  (N=100K, R=1B)  \n",
       "3                151986.434269  (N=500K, R=1B)  \n",
       "4                154741.592739    (N=1M, R=1B)  \n",
       "5                232961.020767    (N=5M, R=1B)  \n",
       "6                251226.398349   (N=10M, R=1B)  "
      ]
     },
     "execution_count": 36,
     "metadata": {},
     "output_type": "execute_result"
    }
   ],
   "source": [
    "# Combine N (Number of Actors) and R (Number of Rounds) into a new column for x-axis label\n",
    "df['N_R'] = \"(N=\" + df['N'].apply(format_number_str) + \", R=\" + df['R'].apply(format_number_str) + \")\"\n",
    "df.head(15)"
   ]
  },
  {
   "cell_type": "markdown",
   "metadata": {},
   "source": [
    "Visualize the Data"
   ]
  },
  {
   "cell_type": "code",
   "execution_count": 37,
   "metadata": {},
   "outputs": [
    {
     "data": {
      "image/png": "[encoded data removed]",
      "text/plain": [
       "<Figure size 1000x600 with 1 Axes>"
      ]
     },
     "metadata": {},
     "output_type": "display_data"
    }
   ],
   "source": [
    "# Set the plot style\n",
    "sns.set_theme(style=\"whitegrid\", palette=\"muted\")\n",
    "\n",
    "# Plotting the energy consumption\n",
    "plt.figure(figsize=(10, 6))\n",
    "\n",
    "# Plot Erlang and Scala energy consumption\n",
    "sns.lineplot(x=\"N_R\", y=\"Erlang Energy Consumption(J)\", data=df, marker='o', label=\"Erlang Energy Consumption (J)\", color=\"blue\")\n",
    "sns.lineplot(x=\"N_R\", y=\"Scala Energy Consumption(J)\", data=df, marker='o', label=\"Scala Energy Consumption (J)\", color=\"green\")\n",
    "\n",
    "# Adding labels and title\n",
    "plt.xlabel(\"Number of Actors and Rounds (N, R)\")\n",
    "plt.ylabel(\"Energy Consumption (Joules)\")\n",
    "plt.title(\" Erlang vs Scala Thread-Ring Benchmark Energy Consumption\")\n",
    "# plt.xscale(\"log\")\n",
    "plt.yscale(\"log\")\n",
    "\n",
    "# # Display legend\n",
    "plt.legend()\n",
    "\n",
    "# Rotate x-axis labels for readability\n",
    "plt.xticks(rotation=45, ha='right')\n",
    "\n",
    "# Show the plot\n",
    "plt.grid(True)\n",
    "plt.tight_layout()\n",
    "plt.show()\n"
   ]
  }
 ],
 "metadata": {
  "kernelspec": {
   "display_name": "Python (venv)",
   "language": "python",
   "name": "venv"
  },
  "language_info": {
   "codemirror_mode": {
    "name": "ipython",
    "version": 3
   },
   "file_extension": ".py",
   "mimetype": "text/x-python",
   "name": "python",
   "nbconvert_exporter": "python",
   "pygments_lexer": "ipython3",
   "version": "3.12.0"
  }
 },
 "nbformat": 4,
 "nbformat_minor": 2
}
