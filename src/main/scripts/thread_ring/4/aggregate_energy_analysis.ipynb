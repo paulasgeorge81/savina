{
 "cells": [
  {
   "cell_type": "markdown",
   "metadata": {},
   "source": [
    "Import Packages"
   ]
  },
  {
   "cell_type": "code",
   "execution_count": 7,
   "metadata": {},
   "outputs": [],
   "source": [
    "import pandas as pd\n",
    "import matplotlib.pyplot as plt\n",
    "import seaborn as sns"
   ]
  },
  {
   "cell_type": "markdown",
   "metadata": {},
   "source": [
    "Load the Data"
   ]
  },
  {
   "cell_type": "code",
   "execution_count": 8,
   "metadata": {},
   "outputs": [],
   "source": [
    "parent_dir = '../../../data/thread_ring/4/'\n",
    "\n",
    "df = pd.read_csv(f'{parent_dir}/aggregate_energy_results.csv')\n"
   ]
  },
  {
   "cell_type": "markdown",
   "metadata": {},
   "source": [
    "Preview the Data"
   ]
  },
  {
   "cell_type": "code",
   "execution_count": 9,
   "metadata": {},
   "outputs": [
    {
     "name": "stdout",
     "output_type": "stream",
     "text": [
      "Data:\n",
      "(8, 5)\n"
     ]
    },
    {
     "data": {
      "text/html": [
       "<div>\n",
       "<style scoped>\n",
       "    .dataframe tbody tr th:only-of-type {\n",
       "        vertical-align: middle;\n",
       "    }\n",
       "\n",
       "    .dataframe tbody tr th {\n",
       "        vertical-align: top;\n",
       "    }\n",
       "\n",
       "    .dataframe thead th {\n",
       "        text-align: right;\n",
       "    }\n",
       "</style>\n",
       "<table border=\"1\" class=\"dataframe\">\n",
       "  <thead>\n",
       "    <tr style=\"text-align: right;\">\n",
       "      <th></th>\n",
       "      <th>Iterations</th>\n",
       "      <th>N</th>\n",
       "      <th>R</th>\n",
       "      <th>Erlang Energy Consumption(J)</th>\n",
       "      <th>Scala Energy Consumption(J)</th>\n",
       "    </tr>\n",
       "  </thead>\n",
       "  <tbody>\n",
       "    <tr>\n",
       "      <th>0</th>\n",
       "      <td>10</td>\n",
       "      <td>10000</td>\n",
       "      <td>100000000</td>\n",
       "      <td>5649.092281</td>\n",
       "      <td>12408.315631</td>\n",
       "    </tr>\n",
       "    <tr>\n",
       "      <th>1</th>\n",
       "      <td>10</td>\n",
       "      <td>50000</td>\n",
       "      <td>100000000</td>\n",
       "      <td>6087.734579</td>\n",
       "      <td>14135.553333</td>\n",
       "    </tr>\n",
       "    <tr>\n",
       "      <th>2</th>\n",
       "      <td>10</td>\n",
       "      <td>100000</td>\n",
       "      <td>100000000</td>\n",
       "      <td>6871.882400</td>\n",
       "      <td>14729.381980</td>\n",
       "    </tr>\n",
       "    <tr>\n",
       "      <th>3</th>\n",
       "      <td>10</td>\n",
       "      <td>500000</td>\n",
       "      <td>100000000</td>\n",
       "      <td>7516.075212</td>\n",
       "      <td>16046.770842</td>\n",
       "    </tr>\n",
       "    <tr>\n",
       "      <th>4</th>\n",
       "      <td>10</td>\n",
       "      <td>1000000</td>\n",
       "      <td>100000000</td>\n",
       "      <td>7758.486061</td>\n",
       "      <td>17703.884833</td>\n",
       "    </tr>\n",
       "    <tr>\n",
       "      <th>5</th>\n",
       "      <td>10</td>\n",
       "      <td>5000000</td>\n",
       "      <td>100000000</td>\n",
       "      <td>65204.565029</td>\n",
       "      <td>36661.787980</td>\n",
       "    </tr>\n",
       "    <tr>\n",
       "      <th>6</th>\n",
       "      <td>10</td>\n",
       "      <td>10000000</td>\n",
       "      <td>100000000</td>\n",
       "      <td>74634.189251</td>\n",
       "      <td>94524.170800</td>\n",
       "    </tr>\n",
       "    <tr>\n",
       "      <th>7</th>\n",
       "      <td>10</td>\n",
       "      <td>20000000</td>\n",
       "      <td>100000000</td>\n",
       "      <td>100222.316691</td>\n",
       "      <td>482376.949182</td>\n",
       "    </tr>\n",
       "  </tbody>\n",
       "</table>\n",
       "</div>"
      ],
      "text/plain": [
       "   Iterations         N          R  Erlang Energy Consumption(J)  \\\n",
       "0          10     10000  100000000                   5649.092281   \n",
       "1          10     50000  100000000                   6087.734579   \n",
       "2          10    100000  100000000                   6871.882400   \n",
       "3          10    500000  100000000                   7516.075212   \n",
       "4          10   1000000  100000000                   7758.486061   \n",
       "5          10   5000000  100000000                  65204.565029   \n",
       "6          10  10000000  100000000                  74634.189251   \n",
       "7          10  20000000  100000000                 100222.316691   \n",
       "\n",
       "   Scala Energy Consumption(J)  \n",
       "0                 12408.315631  \n",
       "1                 14135.553333  \n",
       "2                 14729.381980  \n",
       "3                 16046.770842  \n",
       "4                 17703.884833  \n",
       "5                 36661.787980  \n",
       "6                 94524.170800  \n",
       "7                482376.949182  "
      ]
     },
     "execution_count": 9,
     "metadata": {},
     "output_type": "execute_result"
    }
   ],
   "source": [
    "print(\"Data:\")\n",
    "print(df.shape)\n",
    "df.head(15)"
   ]
  },
  {
   "cell_type": "markdown",
   "metadata": {},
   "source": [
    "Add Custom Column for N and R"
   ]
  },
  {
   "cell_type": "code",
   "execution_count": 10,
   "metadata": {},
   "outputs": [],
   "source": [
    "def format_number_str(nmsg):\n",
    "    \"\"\"Formats large numbers into shortened notation (e.g., 1B, 100M, 10M).\"\"\"\n",
    "    if nmsg >= 1_000_000_000:\n",
    "        return f\"{nmsg // 1_000_000_000}B\"\n",
    "    elif nmsg >= 1_000_000:\n",
    "        return f\"{nmsg // 1_000_000}M\"\n",
    "    elif nmsg >= 1_000:\n",
    "        return f\"{nmsg // 1_000}K\"\n",
    "    return str(nmsg)"
   ]
  },
  {
   "cell_type": "code",
   "execution_count": 11,
   "metadata": {},
   "outputs": [
    {
     "data": {
      "text/html": [
       "<div>\n",
       "<style scoped>\n",
       "    .dataframe tbody tr th:only-of-type {\n",
       "        vertical-align: middle;\n",
       "    }\n",
       "\n",
       "    .dataframe tbody tr th {\n",
       "        vertical-align: top;\n",
       "    }\n",
       "\n",
       "    .dataframe thead th {\n",
       "        text-align: right;\n",
       "    }\n",
       "</style>\n",
       "<table border=\"1\" class=\"dataframe\">\n",
       "  <thead>\n",
       "    <tr style=\"text-align: right;\">\n",
       "      <th></th>\n",
       "      <th>Iterations</th>\n",
       "      <th>N</th>\n",
       "      <th>R</th>\n",
       "      <th>Erlang Energy Consumption(J)</th>\n",
       "      <th>Scala Energy Consumption(J)</th>\n",
       "      <th>N_R</th>\n",
       "    </tr>\n",
       "  </thead>\n",
       "  <tbody>\n",
       "    <tr>\n",
       "      <th>0</th>\n",
       "      <td>10</td>\n",
       "      <td>10000</td>\n",
       "      <td>100000000</td>\n",
       "      <td>5649.092281</td>\n",
       "      <td>12408.315631</td>\n",
       "      <td>(N=10K, R=100M)</td>\n",
       "    </tr>\n",
       "    <tr>\n",
       "      <th>1</th>\n",
       "      <td>10</td>\n",
       "      <td>50000</td>\n",
       "      <td>100000000</td>\n",
       "      <td>6087.734579</td>\n",
       "      <td>14135.553333</td>\n",
       "      <td>(N=50K, R=100M)</td>\n",
       "    </tr>\n",
       "    <tr>\n",
       "      <th>2</th>\n",
       "      <td>10</td>\n",
       "      <td>100000</td>\n",
       "      <td>100000000</td>\n",
       "      <td>6871.882400</td>\n",
       "      <td>14729.381980</td>\n",
       "      <td>(N=100K, R=100M)</td>\n",
       "    </tr>\n",
       "    <tr>\n",
       "      <th>3</th>\n",
       "      <td>10</td>\n",
       "      <td>500000</td>\n",
       "      <td>100000000</td>\n",
       "      <td>7516.075212</td>\n",
       "      <td>16046.770842</td>\n",
       "      <td>(N=500K, R=100M)</td>\n",
       "    </tr>\n",
       "    <tr>\n",
       "      <th>4</th>\n",
       "      <td>10</td>\n",
       "      <td>1000000</td>\n",
       "      <td>100000000</td>\n",
       "      <td>7758.486061</td>\n",
       "      <td>17703.884833</td>\n",
       "      <td>(N=1M, R=100M)</td>\n",
       "    </tr>\n",
       "    <tr>\n",
       "      <th>5</th>\n",
       "      <td>10</td>\n",
       "      <td>5000000</td>\n",
       "      <td>100000000</td>\n",
       "      <td>65204.565029</td>\n",
       "      <td>36661.787980</td>\n",
       "      <td>(N=5M, R=100M)</td>\n",
       "    </tr>\n",
       "    <tr>\n",
       "      <th>6</th>\n",
       "      <td>10</td>\n",
       "      <td>10000000</td>\n",
       "      <td>100000000</td>\n",
       "      <td>74634.189251</td>\n",
       "      <td>94524.170800</td>\n",
       "      <td>(N=10M, R=100M)</td>\n",
       "    </tr>\n",
       "    <tr>\n",
       "      <th>7</th>\n",
       "      <td>10</td>\n",
       "      <td>20000000</td>\n",
       "      <td>100000000</td>\n",
       "      <td>100222.316691</td>\n",
       "      <td>482376.949182</td>\n",
       "      <td>(N=20M, R=100M)</td>\n",
       "    </tr>\n",
       "  </tbody>\n",
       "</table>\n",
       "</div>"
      ],
      "text/plain": [
       "   Iterations         N          R  Erlang Energy Consumption(J)  \\\n",
       "0          10     10000  100000000                   5649.092281   \n",
       "1          10     50000  100000000                   6087.734579   \n",
       "2          10    100000  100000000                   6871.882400   \n",
       "3          10    500000  100000000                   7516.075212   \n",
       "4          10   1000000  100000000                   7758.486061   \n",
       "5          10   5000000  100000000                  65204.565029   \n",
       "6          10  10000000  100000000                  74634.189251   \n",
       "7          10  20000000  100000000                 100222.316691   \n",
       "\n",
       "   Scala Energy Consumption(J)               N_R  \n",
       "0                 12408.315631   (N=10K, R=100M)  \n",
       "1                 14135.553333   (N=50K, R=100M)  \n",
       "2                 14729.381980  (N=100K, R=100M)  \n",
       "3                 16046.770842  (N=500K, R=100M)  \n",
       "4                 17703.884833    (N=1M, R=100M)  \n",
       "5                 36661.787980    (N=5M, R=100M)  \n",
       "6                 94524.170800   (N=10M, R=100M)  \n",
       "7                482376.949182   (N=20M, R=100M)  "
      ]
     },
     "execution_count": 11,
     "metadata": {},
     "output_type": "execute_result"
    }
   ],
   "source": [
    "# Combine N (Number of Actors) and R (Number of Rounds) into a new column for x-axis label\n",
    "df['N_R'] = \"(N=\" + df['N'].apply(format_number_str) + \", R=\" + df['R'].apply(format_number_str) + \")\"\n",
    "df.head(15)"
   ]
  },
  {
   "cell_type": "markdown",
   "metadata": {},
   "source": [
    "Visualize the Data"
   ]
  },
  {
   "cell_type": "code",
   "execution_count": 12,
   "metadata": {},
   "outputs": [
    {
     "data": {
      "image/png": "[encoded data removed]",
      "text/plain": [
       "<Figure size 1000x600 with 1 Axes>"
      ]
     },
     "metadata": {},
     "output_type": "display_data"
    }
   ],
   "source": [
    "# Set the plot style\n",
    "sns.set_theme(style=\"whitegrid\", palette=\"muted\")\n",
    "\n",
    "# Plotting the energy consumption\n",
    "plt.figure(figsize=(10, 6))\n",
    "\n",
    "# Plot Erlang and Scala energy consumption\n",
    "sns.lineplot(x=\"N_R\", y=\"Erlang Energy Consumption(J)\", data=df, marker='o', label=\"Erlang Energy Consumption (J)\", color=\"blue\")\n",
    "sns.lineplot(x=\"N_R\", y=\"Scala Energy Consumption(J)\", data=df, marker='o', label=\"Scala Energy Consumption (J)\", color=\"green\")\n",
    "\n",
    "# Adding labels and title\n",
    "plt.xlabel(\"Number of Actors and Rounds (N, R)\")\n",
    "plt.ylabel(\"Energy Consumption (Joules)\")\n",
    "# plt.title(\" Erlang vs Scala Thread-Ring Benchmark Energy Consumption\")\n",
    "# plt.xscale(\"log\")\n",
    "plt.yscale(\"log\")\n",
    "\n",
    "# # Display legend\n",
    "plt.legend()\n",
    "\n",
    "# Rotate x-axis labels for readability\n",
    "plt.xticks(rotation=45, ha='right')\n",
    "\n",
    "# Show the plot\n",
    "plt.grid(True)\n",
    "plt.tight_layout()\n",
    "plt.show()\n"
   ]
  }
 ],
 "metadata": {
  "kernelspec": {
   "display_name": "Python (venv)",
   "language": "python",
   "name": "venv"
  },
  "language_info": {
   "codemirror_mode": {
    "name": "ipython",
    "version": 3
   },
   "file_extension": ".py",
   "mimetype": "text/x-python",
   "name": "python",
   "nbconvert_exporter": "python",
   "pygments_lexer": "ipython3",
   "version": "3.12.0"
  }
 },
 "nbformat": 4,
 "nbformat_minor": 2
}
