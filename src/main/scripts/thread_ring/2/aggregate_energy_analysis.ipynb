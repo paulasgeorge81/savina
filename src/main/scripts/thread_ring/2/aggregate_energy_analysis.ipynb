{
 "cells": [
  {
   "cell_type": "markdown",
   "metadata": {},
   "source": [
    "Import Packages"
   ]
  },
  {
   "cell_type": "code",
   "execution_count": 1,
   "metadata": {},
   "outputs": [],
   "source": [
    "import pandas as pd\n",
    "import matplotlib.pyplot as plt\n",
    "import seaborn as sns"
   ]
  },
  {
   "cell_type": "markdown",
   "metadata": {},
   "source": [
    "Load the Data"
   ]
  },
  {
   "cell_type": "code",
   "execution_count": 2,
   "metadata": {},
   "outputs": [],
   "source": [
    "parent_dir = '../../../data/thread_ring/2/'\n",
    "\n",
    "df = pd.read_csv(f'{parent_dir}/aggregate_energy_results.csv')\n"
   ]
  },
  {
   "cell_type": "markdown",
   "metadata": {},
   "source": [
    "Preview the Data"
   ]
  },
  {
   "cell_type": "code",
   "execution_count": 3,
   "metadata": {},
   "outputs": [
    {
     "name": "stdout",
     "output_type": "stream",
     "text": [
      "Data:\n",
      "(8, 5)\n"
     ]
    },
    {
     "data": {
      "text/html": [
       "<div>\n",
       "<style scoped>\n",
       "    .dataframe tbody tr th:only-of-type {\n",
       "        vertical-align: middle;\n",
       "    }\n",
       "\n",
       "    .dataframe tbody tr th {\n",
       "        vertical-align: top;\n",
       "    }\n",
       "\n",
       "    .dataframe thead th {\n",
       "        text-align: right;\n",
       "    }\n",
       "</style>\n",
       "<table border=\"1\" class=\"dataframe\">\n",
       "  <thead>\n",
       "    <tr style=\"text-align: right;\">\n",
       "      <th></th>\n",
       "      <th>Iterations</th>\n",
       "      <th>N</th>\n",
       "      <th>R</th>\n",
       "      <th>Erlang Energy Consumption(J)</th>\n",
       "      <th>Scala Energy Consumption(J)</th>\n",
       "    </tr>\n",
       "  </thead>\n",
       "  <tbody>\n",
       "    <tr>\n",
       "      <th>0</th>\n",
       "      <td>10</td>\n",
       "      <td>100000</td>\n",
       "      <td>1000000</td>\n",
       "      <td>149.686500</td>\n",
       "      <td>458.642571</td>\n",
       "    </tr>\n",
       "    <tr>\n",
       "      <th>1</th>\n",
       "      <td>10</td>\n",
       "      <td>100000</td>\n",
       "      <td>5000000</td>\n",
       "      <td>396.127775</td>\n",
       "      <td>1042.733451</td>\n",
       "    </tr>\n",
       "    <tr>\n",
       "      <th>2</th>\n",
       "      <td>10</td>\n",
       "      <td>100000</td>\n",
       "      <td>10000000</td>\n",
       "      <td>732.519773</td>\n",
       "      <td>1718.382713</td>\n",
       "    </tr>\n",
       "    <tr>\n",
       "      <th>3</th>\n",
       "      <td>10</td>\n",
       "      <td>100000</td>\n",
       "      <td>50000000</td>\n",
       "      <td>3449.780029</td>\n",
       "      <td>8092.251300</td>\n",
       "    </tr>\n",
       "    <tr>\n",
       "      <th>4</th>\n",
       "      <td>10</td>\n",
       "      <td>100000</td>\n",
       "      <td>100000000</td>\n",
       "      <td>6740.433537</td>\n",
       "      <td>16091.472509</td>\n",
       "    </tr>\n",
       "    <tr>\n",
       "      <th>5</th>\n",
       "      <td>10</td>\n",
       "      <td>100000</td>\n",
       "      <td>500000000</td>\n",
       "      <td>34742.650661</td>\n",
       "      <td>82401.739384</td>\n",
       "    </tr>\n",
       "    <tr>\n",
       "      <th>6</th>\n",
       "      <td>10</td>\n",
       "      <td>100000</td>\n",
       "      <td>1000000000</td>\n",
       "      <td>69392.126396</td>\n",
       "      <td>148241.887966</td>\n",
       "    </tr>\n",
       "    <tr>\n",
       "      <th>7</th>\n",
       "      <td>10</td>\n",
       "      <td>100000</td>\n",
       "      <td>2000000000</td>\n",
       "      <td>141523.571954</td>\n",
       "      <td>318487.727263</td>\n",
       "    </tr>\n",
       "  </tbody>\n",
       "</table>\n",
       "</div>"
      ],
      "text/plain": [
       "   Iterations       N           R  Erlang Energy Consumption(J)  \\\n",
       "0          10  100000     1000000                    149.686500   \n",
       "1          10  100000     5000000                    396.127775   \n",
       "2          10  100000    10000000                    732.519773   \n",
       "3          10  100000    50000000                   3449.780029   \n",
       "4          10  100000   100000000                   6740.433537   \n",
       "5          10  100000   500000000                  34742.650661   \n",
       "6          10  100000  1000000000                  69392.126396   \n",
       "7          10  100000  2000000000                 141523.571954   \n",
       "\n",
       "   Scala Energy Consumption(J)  \n",
       "0                   458.642571  \n",
       "1                  1042.733451  \n",
       "2                  1718.382713  \n",
       "3                  8092.251300  \n",
       "4                 16091.472509  \n",
       "5                 82401.739384  \n",
       "6                148241.887966  \n",
       "7                318487.727263  "
      ]
     },
     "execution_count": 3,
     "metadata": {},
     "output_type": "execute_result"
    }
   ],
   "source": [
    "print(\"Data:\")\n",
    "print(df.shape)\n",
    "df.head(15)"
   ]
  },
  {
   "cell_type": "markdown",
   "metadata": {},
   "source": [
    "Add Custom Column for N and R"
   ]
  },
  {
   "cell_type": "code",
   "execution_count": 4,
   "metadata": {},
   "outputs": [],
   "source": [
    "def format_number_str(nmsg):\n",
    "    \"\"\"Formats large numbers into shortened notation (e.g., 1B, 100M, 10M).\"\"\"\n",
    "    if nmsg >= 1_000_000_000:\n",
    "        return f\"{nmsg // 1_000_000_000}B\"\n",
    "    elif nmsg >= 1_000_000:\n",
    "        return f\"{nmsg // 1_000_000}M\"\n",
    "    elif nmsg >= 1_000:\n",
    "        return f\"{nmsg // 1_000}K\"\n",
    "    return str(nmsg)"
   ]
  },
  {
   "cell_type": "code",
   "execution_count": 5,
   "metadata": {},
   "outputs": [
    {
     "data": {
      "text/html": [
       "<div>\n",
       "<style scoped>\n",
       "    .dataframe tbody tr th:only-of-type {\n",
       "        vertical-align: middle;\n",
       "    }\n",
       "\n",
       "    .dataframe tbody tr th {\n",
       "        vertical-align: top;\n",
       "    }\n",
       "\n",
       "    .dataframe thead th {\n",
       "        text-align: right;\n",
       "    }\n",
       "</style>\n",
       "<table border=\"1\" class=\"dataframe\">\n",
       "  <thead>\n",
       "    <tr style=\"text-align: right;\">\n",
       "      <th></th>\n",
       "      <th>Iterations</th>\n",
       "      <th>N</th>\n",
       "      <th>R</th>\n",
       "      <th>Erlang Energy Consumption(J)</th>\n",
       "      <th>Scala Energy Consumption(J)</th>\n",
       "      <th>N_R</th>\n",
       "    </tr>\n",
       "  </thead>\n",
       "  <tbody>\n",
       "    <tr>\n",
       "      <th>0</th>\n",
       "      <td>10</td>\n",
       "      <td>100000</td>\n",
       "      <td>1000000</td>\n",
       "      <td>149.686500</td>\n",
       "      <td>458.642571</td>\n",
       "      <td>(N=100K, R=1M)</td>\n",
       "    </tr>\n",
       "    <tr>\n",
       "      <th>1</th>\n",
       "      <td>10</td>\n",
       "      <td>100000</td>\n",
       "      <td>5000000</td>\n",
       "      <td>396.127775</td>\n",
       "      <td>1042.733451</td>\n",
       "      <td>(N=100K, R=5M)</td>\n",
       "    </tr>\n",
       "    <tr>\n",
       "      <th>2</th>\n",
       "      <td>10</td>\n",
       "      <td>100000</td>\n",
       "      <td>10000000</td>\n",
       "      <td>732.519773</td>\n",
       "      <td>1718.382713</td>\n",
       "      <td>(N=100K, R=10M)</td>\n",
       "    </tr>\n",
       "    <tr>\n",
       "      <th>3</th>\n",
       "      <td>10</td>\n",
       "      <td>100000</td>\n",
       "      <td>50000000</td>\n",
       "      <td>3449.780029</td>\n",
       "      <td>8092.251300</td>\n",
       "      <td>(N=100K, R=50M)</td>\n",
       "    </tr>\n",
       "    <tr>\n",
       "      <th>4</th>\n",
       "      <td>10</td>\n",
       "      <td>100000</td>\n",
       "      <td>100000000</td>\n",
       "      <td>6740.433537</td>\n",
       "      <td>16091.472509</td>\n",
       "      <td>(N=100K, R=100M)</td>\n",
       "    </tr>\n",
       "    <tr>\n",
       "      <th>5</th>\n",
       "      <td>10</td>\n",
       "      <td>100000</td>\n",
       "      <td>500000000</td>\n",
       "      <td>34742.650661</td>\n",
       "      <td>82401.739384</td>\n",
       "      <td>(N=100K, R=500M)</td>\n",
       "    </tr>\n",
       "    <tr>\n",
       "      <th>6</th>\n",
       "      <td>10</td>\n",
       "      <td>100000</td>\n",
       "      <td>1000000000</td>\n",
       "      <td>69392.126396</td>\n",
       "      <td>148241.887966</td>\n",
       "      <td>(N=100K, R=1B)</td>\n",
       "    </tr>\n",
       "    <tr>\n",
       "      <th>7</th>\n",
       "      <td>10</td>\n",
       "      <td>100000</td>\n",
       "      <td>2000000000</td>\n",
       "      <td>141523.571954</td>\n",
       "      <td>318487.727263</td>\n",
       "      <td>(N=100K, R=2B)</td>\n",
       "    </tr>\n",
       "  </tbody>\n",
       "</table>\n",
       "</div>"
      ],
      "text/plain": [
       "   Iterations       N           R  Erlang Energy Consumption(J)  \\\n",
       "0          10  100000     1000000                    149.686500   \n",
       "1          10  100000     5000000                    396.127775   \n",
       "2          10  100000    10000000                    732.519773   \n",
       "3          10  100000    50000000                   3449.780029   \n",
       "4          10  100000   100000000                   6740.433537   \n",
       "5          10  100000   500000000                  34742.650661   \n",
       "6          10  100000  1000000000                  69392.126396   \n",
       "7          10  100000  2000000000                 141523.571954   \n",
       "\n",
       "   Scala Energy Consumption(J)               N_R  \n",
       "0                   458.642571    (N=100K, R=1M)  \n",
       "1                  1042.733451    (N=100K, R=5M)  \n",
       "2                  1718.382713   (N=100K, R=10M)  \n",
       "3                  8092.251300   (N=100K, R=50M)  \n",
       "4                 16091.472509  (N=100K, R=100M)  \n",
       "5                 82401.739384  (N=100K, R=500M)  \n",
       "6                148241.887966    (N=100K, R=1B)  \n",
       "7                318487.727263    (N=100K, R=2B)  "
      ]
     },
     "execution_count": 5,
     "metadata": {},
     "output_type": "execute_result"
    }
   ],
   "source": [
    "# Combine N (Number of Actors) and R (Number of Rounds) into a new column for x-axis label\n",
    "df['N_R'] = \"(N=\" + df['N'].apply(format_number_str) + \", R=\" + df['R'].apply(format_number_str) + \")\"\n",
    "df.head(15)"
   ]
  },
  {
   "cell_type": "markdown",
   "metadata": {},
   "source": [
    "Visualize the Data"
   ]
  },
  {
   "cell_type": "code",
   "execution_count": 6,
   "metadata": {},
   "outputs": [
    {
     "data": {
      "image/png": "[encoded data removed]",
      "text/plain": [
       "<Figure size 1000x600 with 1 Axes>"
      ]
     },
     "metadata": {},
     "output_type": "display_data"
    }
   ],
   "source": [
    "# Set the plot style\n",
    "sns.set_theme(style=\"whitegrid\", palette=\"muted\")\n",
    "\n",
    "# Plotting the energy consumption\n",
    "plt.figure(figsize=(10, 6))\n",
    "\n",
    "# Plot Erlang and Scala energy consumption\n",
    "sns.lineplot(x=\"N_R\", y=\"Erlang Energy Consumption(J)\", data=df, marker='o', label=\"Erlang Energy Consumption (J)\", color=\"blue\")\n",
    "sns.lineplot(x=\"N_R\", y=\"Scala Energy Consumption(J)\", data=df, marker='o', label=\"Scala Energy Consumption (J)\", color=\"green\")\n",
    "\n",
    "# Adding labels and title\n",
    "plt.xlabel(\"Number of Actors and Rounds (N, R)\")\n",
    "plt.ylabel(\"Energy Consumption (Joules)\")\n",
    "# plt.title(\" Erlang vs Scala Thread-Ring Benchmark Energy Consumption\")\n",
    "# plt.xscale(\"log\")\n",
    "plt.yscale(\"log\")\n",
    "\n",
    "# # Display legend\n",
    "plt.legend()\n",
    "\n",
    "# Rotate x-axis labels for readability\n",
    "plt.xticks(rotation=45, ha='right')\n",
    "\n",
    "# Show the plot\n",
    "plt.grid(True)\n",
    "plt.tight_layout()\n",
    "plt.show()\n"
   ]
  }
 ],
 "metadata": {
  "kernelspec": {
   "display_name": "Python (venv)",
   "language": "python",
   "name": "venv"
  },
  "language_info": {
   "codemirror_mode": {
    "name": "ipython",
    "version": 3
   },
   "file_extension": ".py",
   "mimetype": "text/x-python",
   "name": "python",
   "nbconvert_exporter": "python",
   "pygments_lexer": "ipython3",
   "version": "3.12.0"
  }
 },
 "nbformat": 4,
 "nbformat_minor": 2
}
